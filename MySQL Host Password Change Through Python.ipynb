{
 "cells": [
  {
   "cell_type": "code",
   "execution_count": null,
   "id": "bfb0546c-9036-428f-8bf4-a51a827d1b20",
   "metadata": {},
   "outputs": [],
   "source": [
    "pip install mysql-connector-python   #Install the mysql-connector-python if you don't already have it. You must be online to do this particular one."
   ]
  },
  {
   "cell_type": "code",
   "execution_count": null,
   "id": "bac78524-ffcb-40c7-97ac-64f07d8618cc",
   "metadata": {},
   "outputs": [],
   "source": [
    "import mysql.connector"
   ]
  },
  {
   "cell_type": "code",
   "execution_count": null,
   "id": "62be7ae0-9b3d-4a40-9de0-270e665d6a24",
   "metadata": {},
   "outputs": [],
   "source": [
    "#Establish a connector to the MySQL server\n",
    "\n",
    "conn = mysql.connector.connect(\n",
    "    host = \"localhost\",\n",
    "    user = \"root\",\n",
    "    password = \"Holidayspirit983#\"     #This is your old password.\n",
    ")"
   ]
  },
  {
   "cell_type": "code",
   "execution_count": null,
   "id": "a97ba690-ac5b-489a-90d9-e4953042fa2d",
   "metadata": {},
   "outputs": [],
   "source": [
    "# Create a cursor object\n",
    "\n",
    "cursor = conn.cursor()"
   ]
  },
  {
   "cell_type": "code",
   "execution_count": null,
   "id": "d9ec0ec2-6afa-44fd-89c1-277f52348367",
   "metadata": {},
   "outputs": [],
   "source": [
    "# Change the MySQL password\n",
    "new_password = \"Dynamicbeauty938@\"          #This is your new password.\n",
    "query = \"ALTER USER 'root'@'localhost' IDENTIFIED BY '%s'\" % new_password\n",
    "cursor.execute(query)"
   ]
  },
  {
   "cell_type": "code",
   "execution_count": null,
   "id": "022d1fbc-e227-4d7e-b57d-174f7bbe37b7",
   "metadata": {},
   "outputs": [],
   "source": [
    "# Commit changes\n",
    "conn.commit()"
   ]
  },
  {
   "cell_type": "code",
   "execution_count": null,
   "id": "35557ea8-10ff-4c8b-be49-019b2cdaff7d",
   "metadata": {},
   "outputs": [],
   "source": [
    "# Close the cursor and connection\n",
    "\n",
    "cursor.close()\n",
    "conn.close()"
   ]
  }
 ],
 "metadata": {
  "kernelspec": {
   "display_name": "Python 3 (ipykernel)",
   "language": "python",
   "name": "python3"
  },
  "language_info": {
   "codemirror_mode": {
    "name": "ipython",
    "version": 3
   },
   "file_extension": ".py",
   "mimetype": "text/x-python",
   "name": "python",
   "nbconvert_exporter": "python",
   "pygments_lexer": "ipython3",
   "version": "3.12.4"
  }
 },
 "nbformat": 4,
 "nbformat_minor": 5
}
